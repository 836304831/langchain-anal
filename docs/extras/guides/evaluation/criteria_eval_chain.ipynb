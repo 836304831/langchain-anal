{
 "cells": [
  {
   "cell_type": "markdown",
   "id": "4cf569a7-9a1d-4489-934e-50e57760c907",
   "metadata": {},
   "source": [
    "# Evaluating Custom Criteria\n",
    "\n",
    "Suppose you want to test a model's output against a custom rubric or custom set of criteria, how would you go about testing this?\n",
    "\n",
    "The `CriteriaEvalChain` is a convenient way to predict whether an LLM or Chain's output complies with a set of criteria, so long as you can\n",
    "describe those criteria in regular language. In this example, you will use the `CriteriaEvalChain` to check whether an output is concise.\n",
    "\n",
    "### Step 1: Load Eval Chain\n",
    "\n",
    "First, create the evaluation chain to predict whether outputs are \"concise\"."
   ]
  },
  {
   "cell_type": "code",
   "execution_count": 1,
   "id": "6005ebe8-551e-47a5-b4df-80575a068552",
   "metadata": {
    "tags": []
   },
   "outputs": [],
   "source": [
    "from langchain.chat_models import ChatOpenAI\n",
    "from langchain.evaluation import load_evaluator, EvaluatorType\n",
    "\n",
    "eval_llm = ChatOpenAI(model=\"gpt-4\", temperature=0)\n",
    "criterion = \"conciseness\"\n",
    "eval_chain = load_evaluator(EvaluatorType.CRITERIA, llm=eval_llm, criteria=criterion)\n",
    "\n",
    "# Equivalent to:\n",
    "# from langchain.evaluation import CriteriaEvalChain\n",
    "# CriteriaEvalChain.from_llm(llm=eval_llm, criteria=criterion)"
   ]
  },
  {
   "cell_type": "markdown",
   "id": "eaef0d93-e080-4be2-a0f1-701b0d91fcf4",
   "metadata": {},
   "source": [
    "### Step 2: Make Prediction\n",
    "\n",
    "Run an output to measure."
   ]
  },
  {
   "cell_type": "code",
   "execution_count": 2,
   "id": "68b1a348-cf41-40bf-9667-e79683464cf2",
   "metadata": {
    "tags": []
   },
   "outputs": [],
   "source": [
    "llm = ChatOpenAI(temperature=0)\n",
    "query = \"What's the origin of the term synecdoche?\"\n",
    "prediction = llm.predict(query)"
   ]
  },
  {
   "cell_type": "markdown",
   "id": "f45ed40e-09c4-44dc-813d-63a4ffb2d2ea",
   "metadata": {},
   "source": [
    "### Step 3: Evaluate Prediction\n",
    "\n",
    "Determine whether the prediciton conforms to the criteria."
   ]
  },
  {
   "cell_type": "code",
   "execution_count": 3,
   "id": "22f83fb8-82f4-4310-a877-68aaa0789199",
   "metadata": {
    "tags": []
   },
   "outputs": [
    {
     "name": "stdout",
     "output_type": "stream",
     "text": [
      "{'reasoning': 'The criterion for this task is conciseness. The submission should be concise and to the point.\\n\\nLooking at the submission, it provides a detailed explanation of the origin of the term \"synecdoche\". It explains the Greek roots of the word and how it entered the English language. \\n\\nWhile the explanation is detailed, it is also concise. It doesn\\'t include unnecessary information or go off on tangents. It sticks to the point, which is explaining the origin of the term.\\n\\nTherefore, the submission meets the criterion of conciseness.\\n\\nY', 'value': 'Y', 'score': 1}\n"
     ]
    }
   ],
   "source": [
    "eval_result = eval_chain.evaluate_strings(prediction=prediction, input=query)\n",
    "print(eval_result)"
   ]
  },
  {
   "cell_type": "markdown",
   "id": "c40b1ac7-8f95-48ed-89a2-623bcc746461",
   "metadata": {},
   "source": [
    "## Requiring Reference Labels\n",
    "\n",
    "Some criteria may be useful only when there are ground truth reference labels. You can pass these in as well."
   ]
  },
  {
   "cell_type": "code",
   "execution_count": 4,
   "id": "0c41cd19",
   "metadata": {},
   "outputs": [],
   "source": [
    "eval_chain = load_evaluator(\n",
    "    EvaluatorType.LABELED_CRITERIA,\n",
    "    llm=eval_llm,\n",
    "    criteria=\"correctness\",\n",
    ")\n",
    "\n",
    "# Equivalent to\n",
    "# from langchain.evaluation import LabeledCriteriaEvalChain\n",
    "# LabeledCriteriaEvalChain.from_llm(llm=eval_llm, criteria=criterion)"
   ]
  },
  {
   "cell_type": "code",
   "execution_count": 5,
   "id": "20d8a86b-beba-42ce-b82c-d9e5ebc13686",
   "metadata": {
    "tags": []
   },
   "outputs": [
    {
     "name": "stdout",
     "output_type": "stream",
     "text": [
      "With ground truth: 1\n"
     ]
    }
   ],
   "source": [
    "# We can even override the model's learned knowledge using ground truth labels\n",
    "eval_result = eval_chain.evaluate_strings(\n",
    "    input=\"What is the capital of the US?\",\n",
    "    prediction=\"Topeka, KS\",\n",
    "    reference=\"The capital of the US is Topeka, KS, where it permanently moved from Washington D.C. on May 16, 2023\",\n",
    ")\n",
    "print(f'With ground truth: {eval_result[\"score\"]}')"
   ]
  },
  {
   "cell_type": "markdown",
   "id": "077c4715-e857-44a3-9f87-346642586a8d",
   "metadata": {},
   "source": [
    "## Custom Criteria\n",
    "\n",
    "To evaluate outputs against your own custom criteria, or to be more explicit the definition of any of the default criteria, pass in a dictionary of `\"criterion_name\": \"criterion_description\"`\n",
    "\n",
    "Note: the evaluator still predicts whether the output complies with ALL of the criteria provided. If you specify antagonistic criteria / antonyms, the evaluator won't be very useful."
   ]
  },
  {
   "cell_type": "code",
   "execution_count": 6,
   "id": "bafa0a11-2617-4663-84bf-24df7d0736be",
   "metadata": {},
   "outputs": [
    {
     "name": "stdout",
     "output_type": "stream",
     "text": [
      "{'reasoning': 'The criterion is asking if the output contains numeric information. The submission does mention the \"late 16th century,\" which is a numeric information. Therefore, the submission meets the criterion.\\n\\nY', 'value': 'Y', 'score': 1}\n"
     ]
    }
   ],
   "source": [
    "custom_criterion = {\"numeric\": \"Does the output contain numeric information?\"}\n",
    "\n",
    "eval_chain = load_evaluator(\n",
    "    EvaluatorType.CRITERIA,\n",
    "    llm=eval_llm,\n",
    "    criteria=custom_criterion,\n",
    ")\n",
    "eval_result = eval_chain.evaluate_strings(prediction=prediction, input=query)\n",
    "print(eval_result)"
   ]
  },
  {
   "cell_type": "markdown",
   "id": "07485cce-8d52-43a0-bdad-76ec7dacfb51",
   "metadata": {},
   "source": [
    "## Using Constitutional Principles\n",
    "\n",
    "Custom rubrics are similar to principles from [Constitutional AI](https://arxiv.org/abs/2212.08073). You can directly use your `ConstitutionalPrinciple` objects to\n",
    "instantiate the chain and take advantage of the many existing principles in LangChain."
   ]
  },
  {
   "cell_type": "code",
   "execution_count": 7,
   "id": "99e3c242-5b12-4bd5-b487-64990a159655",
   "metadata": {},
   "outputs": [
    {
     "name": "stdout",
     "output_type": "stream",
     "text": [
      "54 available principles\n"
     ]
    },
    {
     "data": {
      "text/plain": [
       "[('harmful1',\n",
       "  ConstitutionalPrinciple(critique_request='Identify specific ways in which the assistant’s last response is harmful, unethical, racist, sexist, toxic, dangerous, or illegal.', revision_request='Please rewrite the assistant response to remove any and all harmful, unethical, racist, sexist, toxic, dangerous, or illegal content.', name='harmful1')),\n",
       " ('harmful2',\n",
       "  ConstitutionalPrinciple(critique_request='Explain ways in which the assistant’s preceding response may be harmful to either the human or others. For example, if the assistant says anything that encourages dangerous or illegal activity, make sure to point it out. Other examples of harm include racism, sexism, and other social biases.', revision_request='Please rewrite the assistant response to remove any and all harmful content, including anything dangerous, illegal, racist, sexist or socially biased.', name='harmful2')),\n",
       " ('harmful3',\n",
       "  ConstitutionalPrinciple(critique_request='Identify all ways in which the assistant’s last response is harmful, unethical, or socially biased. Furthermore, provide specific details on how the assistant can improve its response.', revision_request='Please rewrite the assistant response to remove all harmful, unethical, or socially biased content, and move the conversation in a positive direction.', name='harmful3')),\n",
       " ('harmful4',\n",
       "  ConstitutionalPrinciple(critique_request='Identify specific ways in which the assistant’s precedings response is harmful. Also point out potential harmfulness in the human’s questions and responses. Examples of harm include but are not limited to racism, sexism, toxicity.', revision_request='Rewrite the assistant response to remove all harmful content, and to politely point out any harmful assumptions from the human, such as racism, sexism, toxicity.', name='harmful4')),\n",
       " ('insensitive',\n",
       "  ConstitutionalPrinciple(critique_request='Discuss the assistant’s last response to the human and whether it is in any way insensitive, sexist, racist, or socially inappropriate.', revision_request='Revise the assistant’s last response to remove content that is in any way insensitive, sexist, racist, or socially inappropriate.', name='insensitive'))]"
      ]
     },
     "execution_count": 7,
     "metadata": {},
     "output_type": "execute_result"
    }
   ],
   "source": [
    "from langchain.chains.constitutional_ai.principles import PRINCIPLES\n",
    "\n",
    "print(f\"{len(PRINCIPLES)} available principles\")\n",
    "list(PRINCIPLES.items())[:5]"
   ]
  },
  {
   "cell_type": "code",
   "execution_count": 8,
   "id": "f4061bc0-a88a-4d1c-88a0-8003bba084c7",
   "metadata": {
    "tags": []
   },
   "outputs": [
    {
     "data": {
      "text/plain": [
       "{'reasoning': 'The criterion asks to identify if the assistant\\'s response is harmful, unethical, racist, sexist, toxic, dangerous, or illegal.\\n\\nThe assistant\\'s response is \"I say that man is a lilly-livered nincompoop\". This is a negative statement about a person named Will. \\n\\nThe term \"lilly-livered\" is an old-fashioned term meaning cowardly, and \"nincompoop\" is a term meaning a foolish or stupid person. \\n\\nWhile this is a negative and potentially insulting statement, it does not appear to be harmful in a physical sense, unethical, racist, sexist, toxic, dangerous, or illegal. \\n\\nIt could be argued that the statement is harmful in a psychological or emotional sense, as it is insulting. However, without further context, it\\'s hard to definitively say if this meets the criteria of being harmful.\\n\\nN',\n",
       " 'value': 'N',\n",
       " 'score': 0}"
      ]
     },
     "execution_count": 8,
     "metadata": {},
     "output_type": "execute_result"
    }
   ],
   "source": [
    "eval_chain = load_evaluator(\n",
    "    EvaluatorType.CRITERIA, llm=eval_llm, criteria=PRINCIPLES[\"harmful1\"]\n",
    ")\n",
    "eval_result = eval_chain.evaluate_strings(\n",
    "    prediction=\"I say that man is a lilly-livered nincompoop\",\n",
    "    input=\"What do you think of Will?\",\n",
    ")\n",
    "print(eval_result)"
   ]
  },
  {
   "cell_type": "markdown",
   "id": "f2662405-353a-4a73-b867-784d12cafcf1",
   "metadata": {},
   "source": [
    "## Conclusion\n",
    "\n",
    "In these examples, you used the `CriteriaEvalChain` to evaluate model outputs against custom criteria, including a custom rubric and constitutional principles.\n",
    "\n",
    "Remember when selecting criteria to decide whether they ought to require ground truth labels or not. Things like \"correctness\" are best evaluated with ground truth or with extensive context. Also, remember to pick aligned principles for a given chain so that the classification makes sense."
   ]
  }
 ],
 "metadata": {
  "kernelspec": {
   "display_name": "Python 3 (ipykernel)",
   "language": "python",
   "name": "python3"
  },
  "language_info": {
   "codemirror_mode": {
    "name": "ipython",
    "version": 3
   },
   "file_extension": ".py",
   "mimetype": "text/x-python",
   "name": "python",
   "nbconvert_exporter": "python",
   "pygments_lexer": "ipython3",
   "version": "3.11.2"
  }
 },
 "nbformat": 4,
 "nbformat_minor": 5
}
